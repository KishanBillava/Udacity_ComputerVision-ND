{
 "cells": [
  {
   "cell_type": "code",
   "execution_count": 2,
   "id": "alleged-idaho",
   "metadata": {},
   "outputs": [],
   "source": [
    "import numpy as np\n",
    "import torch \n",
    "\n",
    "# import helper"
   ]
  },
  {
   "cell_type": "code",
   "execution_count": 3,
   "id": "dedbd246-a682-406d-876c-f28e7806d71e",
   "metadata": {},
   "outputs": [],
   "source": [
    "#"
   ]
  },
  {
   "cell_type": "code",
   "execution_count": 5,
   "id": "cd2a42cd-7aca-4dd8-a5ce-f7ccba9a7b34",
   "metadata": {},
   "outputs": [
    {
     "data": {
      "text/plain": [
       "tensor([[0.7455, 0.5620],\n",
       "        [0.8561, 0.5015],\n",
       "        [0.8191, 0.1797]])"
      ]
     },
     "execution_count": 5,
     "metadata": {},
     "output_type": "execute_result"
    }
   ],
   "source": [
    "x = torch.rand(3,2)\n",
    "x"
   ]
  },
  {
   "cell_type": "code",
   "execution_count": 11,
   "id": "806ef5cc-ad0b-4359-8c9c-1924cc555148",
   "metadata": {},
   "outputs": [
    {
     "data": {
      "text/plain": [
       "tensor([[1., 1.],\n",
       "        [1., 1.],\n",
       "        [1., 1.]])"
      ]
     },
     "execution_count": 11,
     "metadata": {},
     "output_type": "execute_result"
    }
   ],
   "source": [
    "y = torch.ones(x.size())\n",
    "y"
   ]
  },
  {
   "cell_type": "code",
   "execution_count": 16,
   "id": "e5ffed58-626a-457d-b3e2-b46b67bf7653",
   "metadata": {},
   "outputs": [
    {
     "data": {
      "text/plain": [
       "tensor([[1.7455, 1.5620],\n",
       "        [1.8561, 1.5015],\n",
       "        [1.8191, 1.1797]])"
      ]
     },
     "execution_count": 16,
     "metadata": {},
     "output_type": "execute_result"
    }
   ],
   "source": [
    "z = x+y\n",
    "z"
   ]
  },
  {
   "cell_type": "code",
   "execution_count": 17,
   "id": "3855d3bc-4d12-4598-b6d4-2026b436d6b3",
   "metadata": {},
   "outputs": [
    {
     "data": {
      "text/plain": [
       "tensor([1.7455, 1.5620])"
      ]
     },
     "execution_count": 17,
     "metadata": {},
     "output_type": "execute_result"
    }
   ],
   "source": [
    "z[0]"
   ]
  },
  {
   "cell_type": "code",
   "execution_count": 20,
   "id": "a5a9392d-bdd5-48e4-a5b9-1fb452e410c6",
   "metadata": {},
   "outputs": [
    {
     "data": {
      "text/plain": [
       "tensor([[1.5620],\n",
       "        [1.5015],\n",
       "        [1.1797]])"
      ]
     },
     "execution_count": 20,
     "metadata": {},
     "output_type": "execute_result"
    }
   ],
   "source": [
    "z[:,1:]"
   ]
  },
  {
   "cell_type": "code",
   "execution_count": 21,
   "id": "d071a498-dbb0-41aa-a8d5-08e8c9981fb3",
   "metadata": {},
   "outputs": [
    {
     "data": {
      "text/plain": [
       "tensor([[2.7455, 2.5620],\n",
       "        [2.8561, 2.5015],\n",
       "        [2.8191, 2.1797]])"
      ]
     },
     "execution_count": 21,
     "metadata": {},
     "output_type": "execute_result"
    }
   ],
   "source": [
    "z.add(1)"
   ]
  },
  {
   "cell_type": "code",
   "execution_count": 22,
   "id": "74129d95-7837-4e33-a096-2c4c74d0e9ed",
   "metadata": {},
   "outputs": [
    {
     "data": {
      "text/plain": [
       "tensor([[1.7455, 1.5620],\n",
       "        [1.8561, 1.5015],\n",
       "        [1.8191, 1.1797]])"
      ]
     },
     "execution_count": 22,
     "metadata": {},
     "output_type": "execute_result"
    }
   ],
   "source": [
    "z"
   ]
  },
  {
   "cell_type": "code",
   "execution_count": 23,
   "id": "162d892b-6255-4358-afd6-972089575818",
   "metadata": {},
   "outputs": [
    {
     "data": {
      "text/plain": [
       "tensor([[2.7455, 2.5620],\n",
       "        [2.8561, 2.5015],\n",
       "        [2.8191, 2.1797]])"
      ]
     },
     "execution_count": 23,
     "metadata": {},
     "output_type": "execute_result"
    }
   ],
   "source": [
    "z.add_(1)"
   ]
  },
  {
   "cell_type": "code",
   "execution_count": 24,
   "id": "b3554d6f-eab0-40d0-ba1d-3d58dbdf9408",
   "metadata": {},
   "outputs": [
    {
     "data": {
      "text/plain": [
       "torch.Size([3, 2])"
      ]
     },
     "execution_count": 24,
     "metadata": {},
     "output_type": "execute_result"
    }
   ],
   "source": [
    "z.size()"
   ]
  },
  {
   "cell_type": "code",
   "execution_count": 29,
   "id": "e7538661-8711-4ae2-8f91-26aeea9e047e",
   "metadata": {},
   "outputs": [
    {
     "data": {
      "text/plain": [
       "tensor([[2.7455, 2.5620, 2.8561],\n",
       "        [2.5015, 2.8191, 2.1797]])"
      ]
     },
     "execution_count": 29,
     "metadata": {},
     "output_type": "execute_result"
    }
   ],
   "source": [
    "z.resize_(2,3)"
   ]
  },
  {
   "cell_type": "code",
   "execution_count": 30,
   "id": "f8dc61e2-4817-4895-9624-9685b5076fae",
   "metadata": {},
   "outputs": [
    {
     "data": {
      "text/plain": [
       "torch.Size([2, 3])"
      ]
     },
     "execution_count": 30,
     "metadata": {},
     "output_type": "execute_result"
    }
   ],
   "source": [
    "z.size()"
   ]
  },
  {
   "cell_type": "code",
   "execution_count": 32,
   "id": "42bf2dc4-2c1c-4878-893a-112ff201b4a7",
   "metadata": {},
   "outputs": [
    {
     "data": {
      "text/plain": [
       "array([[0.52947213, 0.3547362 , 0.52379279],\n",
       "       [0.24817772, 0.80405312, 0.32653462],\n",
       "       [0.61949604, 0.39222875, 0.72204443],\n",
       "       [0.28809805, 0.88437234, 0.48845333]])"
      ]
     },
     "execution_count": 32,
     "metadata": {},
     "output_type": "execute_result"
    }
   ],
   "source": [
    "a = np.random.rand(4,3)\n",
    "a"
   ]
  },
  {
   "cell_type": "code",
   "execution_count": 34,
   "id": "462f07ff-63d7-4377-af9c-73c984d4897b",
   "metadata": {},
   "outputs": [
    {
     "data": {
      "text/plain": [
       "tensor([[0.5295, 0.3547, 0.5238],\n",
       "        [0.2482, 0.8041, 0.3265],\n",
       "        [0.6195, 0.3922, 0.7220],\n",
       "        [0.2881, 0.8844, 0.4885]], dtype=torch.float64)"
      ]
     },
     "execution_count": 34,
     "metadata": {},
     "output_type": "execute_result"
    }
   ],
   "source": [
    "b = torch.from_numpy(a)\n",
    "b"
   ]
  },
  {
   "cell_type": "code",
   "execution_count": 35,
   "id": "4145c269-105b-4a01-895f-37eaffe16397",
   "metadata": {},
   "outputs": [
    {
     "data": {
      "text/plain": [
       "array([[0.52947213, 0.3547362 , 0.52379279],\n",
       "       [0.24817772, 0.80405312, 0.32653462],\n",
       "       [0.61949604, 0.39222875, 0.72204443],\n",
       "       [0.28809805, 0.88437234, 0.48845333]])"
      ]
     },
     "execution_count": 35,
     "metadata": {},
     "output_type": "execute_result"
    }
   ],
   "source": [
    "b.numpy()"
   ]
  },
  {
   "cell_type": "code",
   "execution_count": 36,
   "id": "53fb8ac4-8051-4760-8514-e490d723c9d2",
   "metadata": {},
   "outputs": [
    {
     "data": {
      "text/plain": [
       "tensor([[0.5295, 0.3547, 0.5238],\n",
       "        [0.2482, 0.8041, 0.3265],\n",
       "        [0.6195, 0.3922, 0.7220],\n",
       "        [0.2881, 0.8844, 0.4885]], dtype=torch.float64)"
      ]
     },
     "execution_count": 36,
     "metadata": {},
     "output_type": "execute_result"
    }
   ],
   "source": [
    "b"
   ]
  },
  {
   "cell_type": "code",
   "execution_count": 37,
   "id": "ea099439-6514-4e35-8638-f948cf263339",
   "metadata": {},
   "outputs": [
    {
     "data": {
      "text/plain": [
       "tensor([[1.0589, 0.7095, 1.0476],\n",
       "        [0.4964, 1.6081, 0.6531],\n",
       "        [1.2390, 0.7845, 1.4441],\n",
       "        [0.5762, 1.7687, 0.9769]], dtype=torch.float64)"
      ]
     },
     "execution_count": 37,
     "metadata": {},
     "output_type": "execute_result"
    }
   ],
   "source": [
    "b.mul_(2)"
   ]
  },
  {
   "cell_type": "code",
   "execution_count": 39,
   "id": "a33f5ae8-cad8-45eb-97f9-9452ec629a9b",
   "metadata": {},
   "outputs": [
    {
     "data": {
      "text/plain": [
       "array([[1.05894426, 0.70947241, 1.04758558],\n",
       "       [0.49635543, 1.60810625, 0.65306924],\n",
       "       [1.23899208, 0.7844575 , 1.44408885],\n",
       "       [0.57619609, 1.76874468, 0.97690666]])"
      ]
     },
     "execution_count": 39,
     "metadata": {},
     "output_type": "execute_result"
    }
   ],
   "source": [
    "# note that numpy and tensor share memory \n",
    "a"
   ]
  },
  {
   "cell_type": "code",
   "execution_count": null,
   "id": "1dd05b47-125b-4fe6-9a56-3f94fd814ae9",
   "metadata": {},
   "outputs": [],
   "source": []
  }
 ],
 "metadata": {
  "kernelspec": {
   "display_name": "Python 3",
   "language": "python",
   "name": "python3"
  },
  "language_info": {
   "codemirror_mode": {
    "name": "ipython",
    "version": 3
   },
   "file_extension": ".py",
   "mimetype": "text/x-python",
   "name": "python",
   "nbconvert_exporter": "python",
   "pygments_lexer": "ipython3",
   "version": "3.9.4"
  }
 },
 "nbformat": 4,
 "nbformat_minor": 5
}
