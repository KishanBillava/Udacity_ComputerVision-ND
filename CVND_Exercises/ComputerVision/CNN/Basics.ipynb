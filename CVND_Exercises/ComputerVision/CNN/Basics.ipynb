{
 "cells": [
  {
   "cell_type": "code",
   "execution_count": 1,
   "id": "462d3d58-624b-4972-8b6d-270c18dad1fe",
   "metadata": {},
   "outputs": [],
   "source": [
    "import cv2\n",
    "import numpy as np\n",
    "import matplotlib.pyplot as plt\n",
    "%matplotlib inline\n",
    "\n",
    "import torch\n",
    "import torchvision"
   ]
  },
  {
   "cell_type": "code",
   "execution_count": 2,
   "id": "b3c16b08-e91d-43e2-ba74-3197170bb4df",
   "metadata": {},
   "outputs": [],
   "source": [
    "#"
   ]
  },
  {
   "cell_type": "code",
   "execution_count": 3,
   "id": "1e06f22e-d26e-4fcc-bfed-d673d31d802d",
   "metadata": {},
   "outputs": [
    {
     "data": {
      "image/png": "[encoded data removed]",
      "text/plain": [
       "<Figure size 432x288 with 1 Axes>"
      ]
     },
     "metadata": {
      "needs_background": "light"
     },
     "output_type": "display_data"
    }
   ],
   "source": [
    "x = [1, 2, 3, 4, 5]\n",
    "y = [1, 4, 9, 16, 25]\n",
    "fig = plt.figure()\n",
    "fig.add_subplot(111)\n",
    "plt.scatter(x, y)\n",
    "plt.show()"
   ]
  },
  {
   "cell_type": "code",
   "execution_count": 4,
   "id": "930c80fe-3535-4a9f-a796-c0c7f2bd96cb",
   "metadata": {},
   "outputs": [],
   "source": [
    "#"
   ]
  },
  {
   "cell_type": "code",
   "execution_count": 5,
   "id": "6f85ee11-9d0d-4472-a862-2db62f12287f",
   "metadata": {},
   "outputs": [
    {
     "name": "stdout",
     "output_type": "stream",
     "text": [
      "a\n",
      "e\n",
      "i\n",
      "o\n",
      "u\n"
     ]
    }
   ],
   "source": [
    "# list of vowels\n",
    "vowels = ['a', 'e', 'i', 'o', 'u']\n",
    "vowels_iter = iter(vowels)\n",
    "\n",
    "print(next(vowels_iter))    # 'a'\n",
    "print(next(vowels_iter))    # 'e'\n",
    "print(next(vowels_iter))    # 'i'\n",
    "print(next(vowels_iter))    # 'o'\n",
    "print(next(vowels_iter))    # 'u'"
   ]
  },
  {
   "cell_type": "code",
   "execution_count": 6,
   "id": "a23aae56-1d74-4882-954f-e04d917767b0",
   "metadata": {},
   "outputs": [
    {
     "name": "stdout",
     "output_type": "stream",
     "text": [
      "[[[0 1 2]\n",
      "  [3 4 5]\n",
      "  [6 7 8]]]\n",
      "\n",
      "[[0 1 2]\n",
      " [3 4 5]\n",
      " [6 7 8]]\n",
      "\n",
      "(1, 3, 3) (3, 3)\n"
     ]
    }
   ],
   "source": [
    "x = np.arange(9).reshape(1,3,3) \n",
    "print(x)\n",
    "print('',sep='\\n')\n",
    "y = np.squeeze(x)\n",
    "print(y)\n",
    "print('',sep='\\n')\n",
    "print (x.shape, y.shape)"
   ]
  },
  {
   "cell_type": "code",
   "execution_count": 7,
   "id": "1a5cf820-f89e-43bd-a613-62ee03e3f722",
   "metadata": {},
   "outputs": [],
   "source": [
    "#"
   ]
  },
  {
   "cell_type": "code",
   "execution_count": 8,
   "id": "493af563-1079-47ef-b283-5e2c99dcbb1d",
   "metadata": {},
   "outputs": [],
   "source": [
    "import torch.nn as nn\n",
    "import torch.nn.functional as F\n",
    "\n",
    "class Model(nn.Module):\n",
    "    def __init__(self):\n",
    "        super(Model, self).__init__()\n",
    "        self.conv1 = nn.Conv2d(1, 20, 5)\n",
    "        self.conv2 = nn.Conv2d(20, 20, 5)\n",
    "\n",
    "    def forward(self, x):\n",
    "        x = F.relu(self.conv1(x))\n",
    "        return F.relu(self.conv2(x))"
   ]
  },
  {
   "cell_type": "code",
   "execution_count": null,
   "id": "a89e5d1b-a345-43f7-b615-16fa8c78d529",
   "metadata": {},
   "outputs": [],
   "source": [
    "torch.nn.Conv2d(in_channels=, \n",
    "                out_channels, \n",
    "                kernel_size, \n",
    "                stride=1, \n",
    "                padding=0, \n",
    "                dilation=1, \n",
    "                groups=1, \n",
    "                bias=True, \n",
    "                padding_mode='zeros', \n",
    "                device=None, \n",
    "                dtype=None)"
   ]
  },
  {
   "cell_type": "code",
   "execution_count": null,
   "id": "c9d886d6-d40f-4b04-9c66-f6bb7eab9d9b",
   "metadata": {},
   "outputs": [],
   "source": [
    "torch.nn.MaxPool2d(kernel_size, \n",
    "                   stride=None, \n",
    "                   padding=0, \n",
    "                   dilation=1, \n",
    "                   return_indices=False, \n",
    "                   ceil_mode=False)"
   ]
  },
  {
   "cell_type": "code",
   "execution_count": null,
   "id": "eda6c6b2-c845-49ad-bf89-bdc64dc318e6",
   "metadata": {},
   "outputs": [],
   "source": [
    "torch.nn.Linear(in_features, \n",
    "                out_features, \n",
    "                bias=True, \n",
    "                device=None, \n",
    "                dtype=None)\n",
    "\n",
    "# in_features – size of each input sample\n",
    "# out_features – size of each output sample\n",
    "# bias – If set to False, the layer will not learn an additive bias. Default: True"
   ]
  },
  {
   "cell_type": "code",
   "execution_count": null,
   "id": "c9730af7-a53b-49c4-98cd-f36c9fe7afb8",
   "metadata": {},
   "outputs": [],
   "source": [
    "Tensor.view(*shape) \n",
    "# Returns a new tensor with the same data as the self tensor but of a different shape."
   ]
  },
  {
   "cell_type": "code",
   "execution_count": null,
   "id": "5d3dc543-e61c-4095-99db-3fa73da762ab",
   "metadata": {},
   "outputs": [],
   "source": [
    "torch.nn.NLLLoss(weight=None, \n",
    "                 size_average=None, \n",
    "                 ignore_index=-100, \n",
    "                 reduce=None, \n",
    "                 reduction='mean')"
   ]
  },
  {
   "cell_type": "code",
   "execution_count": null,
   "id": "75cd6997-5507-4c7d-b88b-3cb85d410dec",
   "metadata": {},
   "outputs": [],
   "source": [
    "torch.optim.SGD(params, \n",
    "                lr=<required parameter>, \n",
    "                momentum=0, \n",
    "                dampening=0, \n",
    "                weight_decay=0, \n",
    "                nesterov=False)"
   ]
  },
  {
   "cell_type": "code",
   "execution_count": null,
   "id": "34d836e2-2adc-49cb-ad74-d6cd74b1bf71",
   "metadata": {},
   "outputs": [],
   "source": []
  }
 ],
 "metadata": {
  "kernelspec": {
   "display_name": "Python 3",
   "language": "python",
   "name": "python3"
  },
  "language_info": {
   "codemirror_mode": {
    "name": "ipython",
    "version": 3
   },
   "file_extension": ".py",
   "mimetype": "text/x-python",
   "name": "python",
   "nbconvert_exporter": "python",
   "pygments_lexer": "ipython3",
   "version": "3.9.0"
  }
 },
 "nbformat": 4,
 "nbformat_minor": 5
}
